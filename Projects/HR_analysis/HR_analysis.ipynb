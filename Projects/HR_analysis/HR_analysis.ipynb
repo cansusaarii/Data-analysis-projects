{
 "cells": [
  {
   "cell_type": "markdown",
   "id": "ea083051-82e4-4791-9366-1dbb3eff3508",
   "metadata": {},
   "source": [
    "**LIBRARIES**"
   ]
  },
  {
   "cell_type": "code",
   "execution_count": 51,
   "id": "2a1fdc70-d16a-4fd2-adbc-78e54dc4cf32",
   "metadata": {},
   "outputs": [],
   "source": [
    "import numpy as np\n",
    "import pandas as pd\n",
    "import matplotlib.pyplot as plt\n",
    "import seaborn as sns\n",
    "%matplotlib inline\n",
    "import warnings\n",
    "warnings.simplefilter(action = 'ignore')"
   ]
  },
  {
   "cell_type": "markdown",
   "id": "b8a3e7c8-a19d-4ea5-ac37-ec0de203c35c",
   "metadata": {},
   "source": [
    "**Reading the dataset**"
   ]
  },
  {
   "cell_type": "code",
   "execution_count": 9,
   "id": "9b536e06-c712-41cc-937c-1e143368cb63",
   "metadata": {},
   "outputs": [
    {
     "data": {
      "text/html": [
       "<div>\n",
       "<style scoped>\n",
       "    .dataframe tbody tr th:only-of-type {\n",
       "        vertical-align: middle;\n",
       "    }\n",
       "\n",
       "    .dataframe tbody tr th {\n",
       "        vertical-align: top;\n",
       "    }\n",
       "\n",
       "    .dataframe thead th {\n",
       "        text-align: right;\n",
       "    }\n",
       "</style>\n",
       "<table border=\"1\" class=\"dataframe\">\n",
       "  <thead>\n",
       "    <tr style=\"text-align: right;\">\n",
       "      <th></th>\n",
       "      <th>Employee_ID</th>\n",
       "      <th>First Name</th>\n",
       "      <th>Last Name</th>\n",
       "      <th>Gender</th>\n",
       "      <th>State</th>\n",
       "      <th>City</th>\n",
       "      <th>Education Level</th>\n",
       "      <th>Birthdate</th>\n",
       "      <th>Hiredate</th>\n",
       "      <th>Termdate</th>\n",
       "      <th>Department</th>\n",
       "      <th>Job Title</th>\n",
       "      <th>Salary</th>\n",
       "      <th>Performance Rating</th>\n",
       "    </tr>\n",
       "  </thead>\n",
       "  <tbody>\n",
       "    <tr>\n",
       "      <th>0</th>\n",
       "      <td>00-95822412</td>\n",
       "      <td>Danielle</td>\n",
       "      <td>Johnson</td>\n",
       "      <td>Female</td>\n",
       "      <td>New York</td>\n",
       "      <td>New York City</td>\n",
       "      <td>High School</td>\n",
       "      <td>13/02/1980</td>\n",
       "      <td>16/04/2016</td>\n",
       "      <td>05/07/2021</td>\n",
       "      <td>Customer Service</td>\n",
       "      <td>Help Desk Technician</td>\n",
       "      <td>81552</td>\n",
       "      <td>Needs Improvement</td>\n",
       "    </tr>\n",
       "    <tr>\n",
       "      <th>1</th>\n",
       "      <td>00-42868828</td>\n",
       "      <td>John</td>\n",
       "      <td>Taylor</td>\n",
       "      <td>Male</td>\n",
       "      <td>North Carolina</td>\n",
       "      <td>Charlotte</td>\n",
       "      <td>Bachelor</td>\n",
       "      <td>22/09/1987</td>\n",
       "      <td>09/02/2017</td>\n",
       "      <td>14/06/2019</td>\n",
       "      <td>IT</td>\n",
       "      <td>System Administrator</td>\n",
       "      <td>107520</td>\n",
       "      <td>Good</td>\n",
       "    </tr>\n",
       "    <tr>\n",
       "      <th>2</th>\n",
       "      <td>00-83197857</td>\n",
       "      <td>Erica</td>\n",
       "      <td>Mcclain</td>\n",
       "      <td>Male</td>\n",
       "      <td>New York</td>\n",
       "      <td>New York City</td>\n",
       "      <td>Bachelor</td>\n",
       "      <td>19/05/1994</td>\n",
       "      <td>03/02/2016</td>\n",
       "      <td>06/03/2021</td>\n",
       "      <td>Operations</td>\n",
       "      <td>Logistics Coordinator</td>\n",
       "      <td>61104</td>\n",
       "      <td>Good</td>\n",
       "    </tr>\n",
       "    <tr>\n",
       "      <th>3</th>\n",
       "      <td>00-13999315</td>\n",
       "      <td>Brittany</td>\n",
       "      <td>Johnson</td>\n",
       "      <td>Male</td>\n",
       "      <td>New York</td>\n",
       "      <td>New York City</td>\n",
       "      <td>Bachelor</td>\n",
       "      <td>18/04/1980</td>\n",
       "      <td>06/02/2016</td>\n",
       "      <td>06/11/2018</td>\n",
       "      <td>Operations</td>\n",
       "      <td>Inventory Specialist</td>\n",
       "      <td>73770</td>\n",
       "      <td>Good</td>\n",
       "    </tr>\n",
       "    <tr>\n",
       "      <th>4</th>\n",
       "      <td>00-90801586</td>\n",
       "      <td>Jeffery</td>\n",
       "      <td>Wagner</td>\n",
       "      <td>Female</td>\n",
       "      <td>New York</td>\n",
       "      <td>New York City</td>\n",
       "      <td>Bachelor</td>\n",
       "      <td>07/04/1985</td>\n",
       "      <td>11/01/2015</td>\n",
       "      <td>NaN</td>\n",
       "      <td>Operations</td>\n",
       "      <td>Operations Analyst</td>\n",
       "      <td>55581</td>\n",
       "      <td>Satisfactory</td>\n",
       "    </tr>\n",
       "  </tbody>\n",
       "</table>\n",
       "</div>"
      ],
      "text/plain": [
       "   Employee_ID First Name Last Name  Gender           State           City  \\\n",
       "0  00-95822412   Danielle   Johnson  Female        New York  New York City   \n",
       "1  00-42868828       John    Taylor    Male  North Carolina      Charlotte   \n",
       "2  00-83197857      Erica   Mcclain    Male        New York  New York City   \n",
       "3  00-13999315   Brittany   Johnson    Male        New York  New York City   \n",
       "4  00-90801586    Jeffery    Wagner  Female        New York  New York City   \n",
       "\n",
       "  Education Level   Birthdate    Hiredate    Termdate        Department  \\\n",
       "0     High School  13/02/1980  16/04/2016  05/07/2021  Customer Service   \n",
       "1        Bachelor  22/09/1987  09/02/2017  14/06/2019                IT   \n",
       "2        Bachelor  19/05/1994  03/02/2016  06/03/2021        Operations   \n",
       "3        Bachelor  18/04/1980  06/02/2016  06/11/2018        Operations   \n",
       "4        Bachelor  07/04/1985  11/01/2015         NaN        Operations   \n",
       "\n",
       "               Job Title  Salary Performance Rating  \n",
       "0   Help Desk Technician   81552  Needs Improvement  \n",
       "1   System Administrator  107520               Good  \n",
       "2  Logistics Coordinator   61104               Good  \n",
       "3   Inventory Specialist   73770               Good  \n",
       "4     Operations Analyst   55581       Satisfactory  "
      ]
     },
     "execution_count": 9,
     "metadata": {},
     "output_type": "execute_result"
    }
   ],
   "source": [
    "data = pd.read_csv(\"HumanResources.csv\", sep=\";\")\n",
    "data.head()"
   ]
  },
  {
   "cell_type": "markdown",
   "id": "f7924c2c-fea6-4b35-9cfb-734be80b5610",
   "metadata": {},
   "source": [
    "**EXPLORATION**"
   ]
  },
  {
   "cell_type": "code",
   "execution_count": 11,
   "id": "dda10f52-5b5a-4b81-98cf-0a81df4ed8e0",
   "metadata": {},
   "outputs": [
    {
     "name": "stdout",
     "output_type": "stream",
     "text": [
      "<class 'pandas.core.frame.DataFrame'>\n",
      "RangeIndex: 8950 entries, 0 to 8949\n",
      "Data columns (total 14 columns):\n",
      " #   Column              Non-Null Count  Dtype \n",
      "---  ------              --------------  ----- \n",
      " 0   Employee_ID         8950 non-null   object\n",
      " 1   First Name          8950 non-null   object\n",
      " 2   Last Name           8950 non-null   object\n",
      " 3   Gender              8950 non-null   object\n",
      " 4   State               8950 non-null   object\n",
      " 5   City                8950 non-null   object\n",
      " 6   Education Level     8950 non-null   object\n",
      " 7   Birthdate           8950 non-null   object\n",
      " 8   Hiredate            8950 non-null   object\n",
      " 9   Termdate            966 non-null    object\n",
      " 10  Department          8950 non-null   object\n",
      " 11  Job Title           8950 non-null   object\n",
      " 12  Salary              8950 non-null   int64 \n",
      " 13  Performance Rating  8950 non-null   object\n",
      "dtypes: int64(1), object(13)\n",
      "memory usage: 979.0+ KB\n"
     ]
    }
   ],
   "source": [
    "data.info()"
   ]
  },
  {
   "cell_type": "code",
   "execution_count": 15,
   "id": "a248de06-7988-4b50-a9b7-06ff1c45134b",
   "metadata": {},
   "outputs": [
    {
     "data": {
      "text/plain": [
       "(8950, 14)"
      ]
     },
     "execution_count": 15,
     "metadata": {},
     "output_type": "execute_result"
    }
   ],
   "source": [
    "data.shape"
   ]
  },
  {
   "cell_type": "code",
   "execution_count": 17,
   "id": "8181ddba-2134-4eef-9931-cc3492a05133",
   "metadata": {},
   "outputs": [
    {
     "data": {
      "text/html": [
       "<div>\n",
       "<style scoped>\n",
       "    .dataframe tbody tr th:only-of-type {\n",
       "        vertical-align: middle;\n",
       "    }\n",
       "\n",
       "    .dataframe tbody tr th {\n",
       "        vertical-align: top;\n",
       "    }\n",
       "\n",
       "    .dataframe thead th {\n",
       "        text-align: right;\n",
       "    }\n",
       "</style>\n",
       "<table border=\"1\" class=\"dataframe\">\n",
       "  <thead>\n",
       "    <tr style=\"text-align: right;\">\n",
       "      <th></th>\n",
       "      <th>Salary</th>\n",
       "    </tr>\n",
       "  </thead>\n",
       "  <tbody>\n",
       "    <tr>\n",
       "      <th>count</th>\n",
       "      <td>8950.000000</td>\n",
       "    </tr>\n",
       "    <tr>\n",
       "      <th>mean</th>\n",
       "      <td>70964.213520</td>\n",
       "    </tr>\n",
       "    <tr>\n",
       "      <th>std</th>\n",
       "      <td>13763.126237</td>\n",
       "    </tr>\n",
       "    <tr>\n",
       "      <th>min</th>\n",
       "      <td>51835.000000</td>\n",
       "    </tr>\n",
       "    <tr>\n",
       "      <th>25%</th>\n",
       "      <td>60920.500000</td>\n",
       "    </tr>\n",
       "    <tr>\n",
       "      <th>50%</th>\n",
       "      <td>66592.500000</td>\n",
       "    </tr>\n",
       "    <tr>\n",
       "      <th>75%</th>\n",
       "      <td>78600.500000</td>\n",
       "    </tr>\n",
       "    <tr>\n",
       "      <th>max</th>\n",
       "      <td>149377.000000</td>\n",
       "    </tr>\n",
       "  </tbody>\n",
       "</table>\n",
       "</div>"
      ],
      "text/plain": [
       "              Salary\n",
       "count    8950.000000\n",
       "mean    70964.213520\n",
       "std     13763.126237\n",
       "min     51835.000000\n",
       "25%     60920.500000\n",
       "50%     66592.500000\n",
       "75%     78600.500000\n",
       "max    149377.000000"
      ]
     },
     "execution_count": 17,
     "metadata": {},
     "output_type": "execute_result"
    }
   ],
   "source": [
    "data.describe()"
   ]
  },
  {
   "cell_type": "markdown",
   "id": "62d85294-050a-4ca1-86e4-b1f681be5f08",
   "metadata": {},
   "source": [
    "**Total Number of People Hired**"
   ]
  },
  {
   "cell_type": "code",
   "execution_count": 19,
   "id": "86958a42-2b09-4cc6-a1c3-601810c2ec27",
   "metadata": {},
   "outputs": [
    {
     "data": {
      "text/plain": [
       "8950"
      ]
     },
     "execution_count": 19,
     "metadata": {},
     "output_type": "execute_result"
    }
   ],
   "source": [
    "total_hired = data[\"Employee_ID\"].count()\n",
    "total_hired"
   ]
  },
  {
   "cell_type": "code",
   "execution_count": 21,
   "id": "e6761baa-5da9-4fb5-9133-6c23a51dbb01",
   "metadata": {},
   "outputs": [
    {
     "data": {
      "text/plain": [
       "8950"
      ]
     },
     "execution_count": 21,
     "metadata": {},
     "output_type": "execute_result"
    }
   ],
   "source": [
    "# if there are nunique IDs\n",
    "total_hired = data[\"Employee_ID\"].nunique()\n",
    "total_hired"
   ]
  },
  {
   "cell_type": "markdown",
   "id": "327b4801-a35e-46d0-a1aa-fb9af31cde90",
   "metadata": {},
   "source": [
    "**Total Number of Terminated People**"
   ]
  },
  {
   "cell_type": "code",
   "execution_count": 26,
   "id": "b4dd384e-f0aa-4492-a607-0c8c45c740be",
   "metadata": {},
   "outputs": [
    {
     "data": {
      "text/plain": [
       "966"
      ]
     },
     "execution_count": 26,
     "metadata": {},
     "output_type": "execute_result"
    }
   ],
   "source": [
    "terminated = data[\"Termdate\"].notna().sum()\n",
    "terminated"
   ]
  },
  {
   "cell_type": "markdown",
   "id": "aae80092-f935-4bff-8d2c-4dd2825f6886",
   "metadata": {},
   "source": [
    "**Departments**"
   ]
  },
  {
   "cell_type": "code",
   "execution_count": 30,
   "id": "88ffecc5-d32a-45d7-bda4-7747b6a35eab",
   "metadata": {},
   "outputs": [
    {
     "data": {
      "text/plain": [
       "7"
      ]
     },
     "execution_count": 30,
     "metadata": {},
     "output_type": "execute_result"
    }
   ],
   "source": [
    "data[\"Department\"].nunique()"
   ]
  },
  {
   "cell_type": "code",
   "execution_count": 38,
   "id": "4422d06c-c659-4898-a961-99590b4aa36e",
   "metadata": {},
   "outputs": [
    {
     "data": {
      "text/plain": [
       "['Customer Service', 'IT', 'Operations', 'Finance', 'Marketing', 'HR', 'Sales']"
      ]
     },
     "execution_count": 38,
     "metadata": {},
     "output_type": "execute_result"
    }
   ],
   "source": [
    "departments = data[\"Department\"].unique().tolist()\n",
    "departments"
   ]
  },
  {
   "cell_type": "code",
   "execution_count": 49,
   "id": "9291c1e2-4d1a-42ac-851d-d74eca0de993",
   "metadata": {},
   "outputs": [
    {
     "data": {
      "text/plain": [
       "Department\n",
       "Operations          2429\n",
       "Sales               1634\n",
       "Customer Service    1489\n",
       "IT                  1243\n",
       "Marketing            648\n",
       "Finance              389\n",
       "HR                   152\n",
       "Name: Employee_ID, dtype: int64"
      ]
     },
     "execution_count": 49,
     "metadata": {},
     "output_type": "execute_result"
    }
   ],
   "source": [
    "hired_count_by_department = data[data[\"Termdate\"].isna()].groupby(\"Department\")[\"Employee_ID\"].count()\n",
    "sorted = hired_count_by_department.sort_values(ascending=False)\n",
    "sorted"
   ]
  },
  {
   "cell_type": "code",
   "execution_count": 55,
   "id": "58dcc592-7e4b-40ef-887d-c16c81d13c8f",
   "metadata": {},
   "outputs": [
    {
     "data": {
      "image/png": "[encoded data removed]",
      "text/plain": [
       "<Figure size 800x400 with 1 Axes>"
      ]
     },
     "metadata": {},
     "output_type": "display_data"
    }
   ],
   "source": [
    "sorted.plot(kind=\"bar\",figsize=(8,4), color=\"skyblue\")\n",
    "plt.title(\"Hired Employees by Department\")\n",
    "plt.xlabel(\"Department\")\n",
    "plt.ylabel(\"Number of Hired Employees\")\n",
    "plt.show()"
   ]
  },
  {
   "cell_type": "markdown",
   "id": "c806fed0-0252-462d-8901-c36e960e4510",
   "metadata": {},
   "source": [
    "**HQ and Branches**"
   ]
  },
  {
   "cell_type": "code",
   "execution_count": 60,
   "id": "366a9043-db13-42e5-bf1c-c0bc66fffdec",
   "metadata": {},
   "outputs": [
    {
     "name": "stdout",
     "output_type": "stream",
     "text": [
      "6270\n",
      "2680\n"
     ]
    }
   ],
   "source": [
    "hq_count= (data[\"State\"]== \"New York\").sum()\n",
    "branch_count = (data[\"State\"] != \"New York\").sum()\n",
    "print(hq_count)\n",
    "print(branch_count)"
   ]
  },
  {
   "cell_type": "code",
   "execution_count": 72,
   "id": "bf72bc95-6058-4893-b21e-9c45738820c5",
   "metadata": {},
   "outputs": [
    {
     "data": {
      "image/png": "[encoded data removed]",
      "text/plain": [
       "<Figure size 400x400 with 1 Axes>"
      ]
     },
     "metadata": {},
     "output_type": "display_data"
    }
   ],
   "source": [
    "count_data = pd.DataFrame({\n",
    "    \"State_Type\": [\"HQ\", \"Branch\"],\n",
    "    \"Count\": [hq_count, branch_count]})\n",
    "\n",
    "plt.figure(figsize=(4,4))\n",
    "sns.barplot(x=\"State_Type\",y= \"Count\",data=count_data, palette=\"viridis\")\n",
    "plt.title(\"HQ vs Branch\")\n",
    "plt.xlabel(\"State\")\n",
    "plt.ylabel(\"Number\")\n",
    "plt.show()"
   ]
  },
  {
   "cell_type": "markdown",
   "id": "62b6927f-c5e0-4ee0-acdc-d5c1321398b6",
   "metadata": {},
   "source": [
    "**Gender**"
   ]
  },
  {
   "cell_type": "code",
   "execution_count": 75,
   "id": "c70eeb9f-eba7-44a5-ba7a-b226301fa821",
   "metadata": {},
   "outputs": [
    {
     "name": "stdout",
     "output_type": "stream",
     "text": [
      "4149\n",
      "4801\n"
     ]
    }
   ],
   "source": [
    "number_of_female = (data[\"Gender\"]==\"Female\").sum()\n",
    "number_of_male = (data[\"Gender\"]==\"Male\").sum()\n",
    "print(number_of_female)\n",
    "print(number_of_male)"
   ]
  },
  {
   "cell_type": "code",
   "execution_count": 77,
   "id": "07367e17-5c87-4193-aa95-95891ddd779a",
   "metadata": {},
   "outputs": [
    {
     "name": "stdout",
     "output_type": "stream",
     "text": [
      "3693\n",
      "4291\n"
     ]
    }
   ],
   "source": [
    "female_hired_count = ((data[\"Gender\"] == \"Female\") & data[\"Termdate\"].isna()).sum()\n",
    "print(female_hired_count)\n",
    "male_hired_count = ((data[\"Gender\"] == \"Male\") & data[\"Termdate\"].isna()).sum()\n",
    "print(male_hired_count)"
   ]
  },
  {
   "cell_type": "code",
   "execution_count": 81,
   "id": "afbd9d89-65c4-447f-abb9-b38d0739dc3d",
   "metadata": {},
   "outputs": [
    {
     "data": {
      "image/png": "[encoded data removed]",
      "text/plain": [
       "<Figure size 500x500 with 1 Axes>"
      ]
     },
     "metadata": {},
     "output_type": "display_data"
    }
   ],
   "source": [
    "hired_counts = {\"Female\": female_hired_count, \"Male\": male_hired_count}\n",
    "plt.figure(figsize=(5, 5))\n",
    "plt.pie(hired_counts.values(), labels=hired_counts.keys(), autopct='%1.1f%%', startangle=90, colors=[\"lightblue\", \"lightcoral\"])\n",
    "plt.title(\"Hired Female vs Male Employees\")\n",
    "plt.show()"
   ]
  },
  {
   "cell_type": "markdown",
   "id": "b03ff29f-4a8f-41e2-9c0f-e0700e6fd0f3",
   "metadata": {},
   "source": [
    "**Education vs Performance**"
   ]
  },
  {
   "cell_type": "code",
   "execution_count": 85,
   "id": "a9a36f19-a475-4c33-9ee1-535d81fc0b07",
   "metadata": {},
   "outputs": [
    {
     "data": {
      "text/plain": [
       "array(['Needs Improvement', 'Good', 'Satisfactory', 'Excellent'],\n",
       "      dtype=object)"
      ]
     },
     "execution_count": 85,
     "metadata": {},
     "output_type": "execute_result"
    }
   ],
   "source": [
    "performance = data[\"Performance Rating\"].unique()\n",
    "performance"
   ]
  },
  {
   "cell_type": "code",
   "execution_count": 98,
   "id": "6c180e8d-0d54-4426-8052-8c0dcf3f05c9",
   "metadata": {},
   "outputs": [
    {
     "data": {
      "image/png": "[encoded data removed]",
      "text/plain": [
       "<Figure size 800x400 with 1 Axes>"
      ]
     },
     "metadata": {},
     "output_type": "display_data"
    }
   ],
   "source": [
    "plt.figure(figsize=(8,4))\n",
    "sns.countplot(data=data, x=\"Education Level\", hue=\"Performance Rating\", palette=\"Set2\")\n",
    "\n",
    "plt.title(\"Education Level vs Performance Rating\")\n",
    "plt.xticks(rotation=45)\n",
    "plt.xlabel(\"Education Level\")\n",
    "plt.ylabel(\"Count of Employees\")\n",
    "plt.show()"
   ]
  }
 ],
 "metadata": {
  "kernelspec": {
   "display_name": "Python 3 (ipykernel)",
   "language": "python",
   "name": "python3"
  },
  "language_info": {
   "codemirror_mode": {
    "name": "ipython",
    "version": 3
   },
   "file_extension": ".py",
   "mimetype": "text/x-python",
   "name": "python",
   "nbconvert_exporter": "python",
   "pygments_lexer": "ipython3",
   "version": "3.11.7"
  }
 },
 "nbformat": 4,
 "nbformat_minor": 5
}
